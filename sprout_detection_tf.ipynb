{
 "cells": [
  {
   "cell_type": "markdown",
   "metadata": {
    "id": "FbVhjPpzn6BM"
   },
   "source": [
    "Testing the latest model"
   ]
  },
  {
   "cell_type": "code",
   "execution_count": 1,
   "metadata": {
    "ExecuteTime": {
     "start_time": "2023-05-01T20:50:57.766694Z",
     "end_time": "2023-05-01T20:50:59.690882Z"
    }
   },
   "outputs": [
    {
     "name": "stdout",
     "output_type": "stream",
     "text": [
      "2.12.0\n"
     ]
    }
   ],
   "source": [
    "# TensorFlow and tf.keras\n",
    "import tensorflow as tf\n",
    "\n",
    "# Helper libraries\n",
    "import numpy as np\n",
    "import matplotlib.pyplot as plt\n",
    "import os\n",
    "import PIL\n",
    "import PIL.Image\n",
    "import pathlib\n",
    "import cv2\n",
    "\n",
    "print(tf.__version__)"
   ]
  },
  {
   "cell_type": "code",
   "execution_count": 13,
   "metadata": {
    "ExecuteTime": {
     "start_time": "2023-05-01T20:57:40.259228Z",
     "end_time": "2023-05-01T20:57:40.263275Z"
    }
   },
   "outputs": [],
   "source": [
    "MODEL_PATH = 'data/model/2023-05-01-15-58-51_sprout_detect'\n",
    "#IMAGE = 'data/test/seed/2023-04-17__07-34-02__picture.jpg'\n",
    "IMAGE = 'data/test/sprout/2023-05-01__13-04-03__picture.jpg'\n"
   ]
  },
  {
   "cell_type": "code",
   "execution_count": 14,
   "metadata": {
    "ExecuteTime": {
     "start_time": "2023-05-01T20:57:40.807469Z",
     "end_time": "2023-05-01T20:57:41.010770Z"
    }
   },
   "outputs": [
    {
     "name": "stdout",
     "output_type": "stream",
     "text": [
      "Model: \"sequential_2\"\n",
      "_________________________________________________________________\n",
      " Layer (type)                Output Shape              Param #   \n",
      "=================================================================\n",
      " rescaling_2 (Rescaling)     (None, 180, 180, 3)       0         \n",
      "                                                                 \n",
      " conv2d_6 (Conv2D)           (None, 178, 178, 32)      896       \n",
      "                                                                 \n",
      " max_pooling2d_6 (MaxPooling  (None, 89, 89, 32)       0         \n",
      " 2D)                                                             \n",
      "                                                                 \n",
      " conv2d_7 (Conv2D)           (None, 87, 87, 32)        9248      \n",
      "                                                                 \n",
      " max_pooling2d_7 (MaxPooling  (None, 43, 43, 32)       0         \n",
      " 2D)                                                             \n",
      "                                                                 \n",
      " conv2d_8 (Conv2D)           (None, 41, 41, 32)        9248      \n",
      "                                                                 \n",
      " max_pooling2d_8 (MaxPooling  (None, 20, 20, 32)       0         \n",
      " 2D)                                                             \n",
      "                                                                 \n",
      " flatten_2 (Flatten)         (None, 12800)             0         \n",
      "                                                                 \n",
      " dense_4 (Dense)             (None, 128)               1638528   \n",
      "                                                                 \n",
      " dense_5 (Dense)             (None, 2)                 258       \n",
      "                                                                 \n",
      "=================================================================\n",
      "Total params: 1,658,178\n",
      "Trainable params: 1,658,178\n",
      "Non-trainable params: 0\n",
      "_________________________________________________________________\n"
     ]
    }
   ],
   "source": [
    "new_model = tf.keras.models.load_model(MODEL_PATH)\n",
    "\n",
    "# Check its architecture\n",
    "new_model.summary()\n"
   ]
  },
  {
   "cell_type": "markdown",
   "metadata": {},
   "source": [
    "Load Image and convert to share (None, 180, 180, 3)"
   ]
  },
  {
   "cell_type": "code",
   "execution_count": 15,
   "metadata": {
    "ExecuteTime": {
     "start_time": "2023-05-01T20:57:42.925545Z",
     "end_time": "2023-05-01T20:57:42.965754Z"
    }
   },
   "outputs": [],
   "source": [
    "image_raw = cv2.imread(IMAGE, 3)\n",
    "\n",
    "resized_image = cv2.resize(image_raw, (180, 180))\n",
    "image=np.expand_dims(resized_image, axis=0)"
   ]
  },
  {
   "cell_type": "code",
   "execution_count": null,
   "outputs": [],
   "source": [],
   "metadata": {
    "collapsed": false
   }
  },
  {
   "cell_type": "markdown",
   "source": [
    "Classify Image"
   ],
   "metadata": {
    "collapsed": false
   }
  },
  {
   "cell_type": "code",
   "execution_count": 20,
   "metadata": {
    "ExecuteTime": {
     "start_time": "2023-05-01T21:21:42.796818Z",
     "end_time": "2023-05-01T21:21:42.887722Z"
    }
   },
   "outputs": [
    {
     "name": "stdout",
     "output_type": "stream",
     "text": [
      "1/1 [==============================] - 0s 12ms/step\n",
      "[[-0.3596344  5.7057385]]\n"
     ]
    }
   ],
   "source": [
    "result = new_model.predict(image)\n",
    "print(result)"
   ]
  },
  {
   "cell_type": "markdown",
   "source": [
    "Test Seed Pictures"
   ],
   "metadata": {
    "collapsed": false
   }
  },
  {
   "cell_type": "code",
   "execution_count": 27,
   "metadata": {
    "ExecuteTime": {
     "start_time": "2023-05-01T21:25:08.671462Z",
     "end_time": "2023-05-01T21:25:10.439770Z"
    }
   },
   "outputs": [
    {
     "name": "stdout",
     "output_type": "stream",
     "text": [
      "1/1 [==============================] - 0s 17ms/step\n",
      "[[5.4203973  0.40972325]]\n",
      "1/1 [==============================] - 0s 9ms/step\n",
      "[[5.253712  0.5522889]]\n",
      "1/1 [==============================] - 0s 9ms/step\n",
      "[[5.539456   0.35531753]]\n",
      "1/1 [==============================] - 0s 10ms/step\n",
      "[[5.488952   0.35734823]]\n",
      "1/1 [==============================] - 0s 10ms/step\n",
      "[[5.223324   0.55760854]]\n",
      "1/1 [==============================] - 0s 9ms/step\n",
      "[[5.5237713 0.3584832]]\n",
      "1/1 [==============================] - 0s 10ms/step\n",
      "[[5.3319287  0.45500952]]\n",
      "1/1 [==============================] - 0s 11ms/step\n",
      "[[4.7557597 0.9382429]]\n",
      "1/1 [==============================] - 0s 10ms/step\n",
      "[[5.405621  0.3968051]]\n",
      "1/1 [==============================] - 0s 10ms/step\n",
      "[[5.5212674  0.35973096]]\n",
      "1/1 [==============================] - 0s 11ms/step\n",
      "[[5.3370423  0.50755304]]\n",
      "1/1 [==============================] - 0s 10ms/step\n",
      "[[5.2473717  0.42726237]]\n",
      "1/1 [==============================] - 0s 9ms/step\n",
      "[[5.253966  0.5514452]]\n",
      "1/1 [==============================] - 0s 9ms/step\n",
      "[[5.4853873  0.39041427]]\n",
      "1/1 [==============================] - 0s 9ms/step\n",
      "[[5.4974093  0.37090608]]\n",
      "1/1 [==============================] - 0s 9ms/step\n",
      "[[5.4508176  0.40805417]]\n",
      "1/1 [==============================] - 0s 9ms/step\n",
      "[[5.395659   0.42699832]]\n",
      "1/1 [==============================] - 0s 9ms/step\n",
      "[[5.2951903  0.48632705]]\n",
      "1/1 [==============================] - 0s 9ms/step\n",
      "[[5.348351  0.4812248]]\n",
      "1/1 [==============================] - 0s 9ms/step\n",
      "[[5.52455   0.3465464]]\n",
      "1/1 [==============================] - 0s 9ms/step\n",
      "[[5.456567  0.4266136]]\n",
      "1/1 [==============================] - 0s 9ms/step\n",
      "[[5.291161   0.54863006]]\n",
      "1/1 [==============================] - 0s 9ms/step\n",
      "[[5.3419814  0.47165865]]\n",
      "1/1 [==============================] - 0s 9ms/step\n",
      "[[5.4559846  0.41805232]]\n",
      "1/1 [==============================] - 0s 8ms/step\n",
      "[[5.2781925  0.51944935]]\n",
      "1/1 [==============================] - 0s 10ms/step\n",
      "[[5.4579463  0.41573074]]\n",
      "1/1 [==============================] - 0s 9ms/step\n",
      "[[5.4836397  0.39760146]]\n",
      "1/1 [==============================] - 0s 10ms/step\n",
      "[[5.5193715  0.35802764]]\n"
     ]
    }
   ],
   "source": [
    "files = os.listdir('data/test/seed')\n",
    "\n",
    "for file in files:\n",
    "    image_raw = cv2.imread('data/test/seed/' + file, 3)\n",
    "    resized_image = cv2.resize(image_raw, (180, 180))\n",
    "    image=np.expand_dims(resized_image, axis=0)\n",
    "    result = new_model.predict(image)\n",
    "    print(result)\n"
   ]
  },
  {
   "cell_type": "markdown",
   "source": [
    "Test Sprout Pictures"
   ],
   "metadata": {
    "collapsed": false
   }
  },
  {
   "cell_type": "code",
   "execution_count": 26,
   "outputs": [
    {
     "name": "stdout",
     "output_type": "stream",
     "text": [
      "1/1 [==============================] - 0s 10ms/step\n",
      "[[-5.4348583  9.66458  ]]\n",
      "1/1 [==============================] - 0s 9ms/step\n",
      "[[-4.105729  8.445781]]\n",
      "1/1 [==============================] - 0s 10ms/step\n",
      "[[-4.9155474  8.947023 ]]\n",
      "1/1 [==============================] - 0s 9ms/step\n",
      "[[-5.0518503  8.95053  ]]\n",
      "1/1 [==============================] - 0s 9ms/step\n",
      "[[-5.3657966  9.464782 ]]\n",
      "1/1 [==============================] - 0s 10ms/step\n",
      "[[-5.2109046  9.057031 ]]\n",
      "1/1 [==============================] - 0s 10ms/step\n",
      "[[-0.5033426  5.7520633]]\n",
      "1/1 [==============================] - 0s 10ms/step\n",
      "[[-4.274238  8.481693]]\n",
      "1/1 [==============================] - 0s 9ms/step\n",
      "[[-5.174563  9.495382]]\n",
      "1/1 [==============================] - 0s 9ms/step\n",
      "[[-0.6061201  5.8253317]]\n",
      "1/1 [==============================] - 0s 9ms/step\n",
      "[[-0.45343965  5.720588  ]]\n",
      "1/1 [==============================] - 0s 9ms/step\n",
      "[[-0.67929125  5.86157   ]]\n",
      "1/1 [==============================] - 0s 9ms/step\n",
      "[[-4.5717406  8.78625  ]]\n",
      "1/1 [==============================] - 0s 9ms/step\n",
      "[[-0.76122814  5.9181256 ]]\n",
      "1/1 [==============================] - 0s 9ms/step\n",
      "[[-0.3596344  5.7057385]]\n",
      "1/1 [==============================] - 0s 9ms/step\n",
      "[[-5.136663  9.36637 ]]\n",
      "1/1 [==============================] - 0s 9ms/step\n",
      "[[-4.172514   8.4548025]]\n",
      "1/1 [==============================] - 0s 9ms/step\n",
      "[[-4.68901   8.943808]]\n",
      "1/1 [==============================] - 0s 9ms/step\n",
      "[[-5.4597216  9.582256 ]]\n"
     ]
    }
   ],
   "source": [
    "files = os.listdir('data/test/sprout')\n",
    "\n",
    "for file in files:\n",
    "    image_raw = cv2.imread('data/test/sprout/' + file, 3)\n",
    "    resized_image = cv2.resize(image_raw, (180, 180))\n",
    "    image=np.expand_dims(resized_image, axis=0)\n",
    "    result = new_model.predict(image)\n",
    "    print(result)\n"
   ],
   "metadata": {
    "collapsed": false,
    "ExecuteTime": {
     "start_time": "2023-05-01T21:24:43.073021Z",
     "end_time": "2023-05-01T21:24:44.161083Z"
    }
   }
  },
  {
   "cell_type": "code",
   "execution_count": null,
   "outputs": [],
   "source": [],
   "metadata": {
    "collapsed": false
   }
  }
 ],
 "metadata": {
  "colab": {
   "collapsed_sections": [],
   "name": "classification.ipynb",
   "toc_visible": true
  },
  "kernelspec": {
   "display_name": "Python 3 (ipykernel)",
   "language": "python",
   "name": "python3"
  },
  "language_info": {
   "codemirror_mode": {
    "name": "ipython",
    "version": 3
   },
   "file_extension": ".py",
   "mimetype": "text/x-python",
   "name": "python",
   "nbconvert_exporter": "python",
   "pygments_lexer": "ipython3",
   "version": "3.10.11"
  }
 },
 "nbformat": 4,
 "nbformat_minor": 1
}
